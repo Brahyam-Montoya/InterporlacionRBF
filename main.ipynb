{
 "cells": [
  {
   "cell_type": "code",
   "source": [
    "from modulo_puntos import generar_puntos, funcion_original\n",
    "from modulo_matriz import construir_sistema\n",
    "from modulo_errores import interpolar, graficar_superficie, graficar_errores\n",
    "import numpy as np"
   ],
   "metadata": {},
   "execution_count": null,
   "outputs": []
  },
  {
   "cell_type": "code",
   "source": [
    "# Parámetros\n",
    "c = 1.0\n",
    "valores_n = [3, 5, 7, 10, 15]\n",
    "\n",
    "for n in valores_n:\n",
    "    print(f"\n--- Ejecutando con n = m = {n} ---")\n",
    "    X, Y, Z, x_vals, y_vals = generar_puntos(n, n)\n",
    "\n",
    "    # Graficar función original\n",
    "    graficar_superficie(X, Y, Z, f"Superficie Original f(x,y) con n={n}")\n",
    "\n",
    "    for tipo in ['multicuadrica', 'inversa']:\n",
    "        print(f"\nMétodo: Interpolación {tipo}")\n",
    "\n",
    "        # Sistema y coeficientes\n",
    "        coef, _ = construir_sistema(X, Y, Z, c, tipo)\n",
    "\n",
    "        # Interpolación\n",
    "        X_new, Y_new, Z_real, _, _ = generar_puntos(50, 50)\n",
    "        Z_interp = interpolar(X_new, Y_new, X, Y, coef, c, tipo)\n",
    "\n",
    "        # Gráfica\n",
    "        graficar_superficie(X_new, Y_new, Z_interp, f"Interpolación {tipo} con n={n}")\n",
    "        graficar_errores(X_new, Y_new, funcion_original(X_new, Y_new), Z_interp,\n",
    "                         f"Error local - {tipo} con n={n}")"
   ],
   "metadata": {},
   "execution_count": null,
   "outputs": []
  }
 ],
 "metadata": {
  "kernelspec": {
   "display_name": "Python 3",
   "language": "python",
   "name": "python3"
  },
  "language_info": {
   "name": "python",
   "version": ""
  }
 },
 "nbformat": 4,
 "nbformat_minor": 4
}